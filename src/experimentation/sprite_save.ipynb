{
 "cells": [
  {
   "cell_type": "code",
   "execution_count": 1,
   "metadata": {},
   "outputs": [
    {
     "name": "stdout",
     "output_type": "stream",
     "text": [
      "pygame 1.9.4\n",
      "Hello from the pygame community. https://www.pygame.org/contribute.html\n"
     ]
    }
   ],
   "source": [
    "import cv2\n",
    "import numpy as np\n",
    "\n",
    "from moviepy.editor import VideoFileClip\n",
    "from scipy.misc import imresize\n",
    "\n",
    "\n",
    "from matplotlib import pyplot\n",
    "from matplotlib.pyplot import imshow, figure \n",
    "\n",
    "import IPython.display as display\n",
    "from PIL import Image\n",
    "import imagehash\n",
    "\n",
    "%matplotlib inline\n",
    "pyplot.rcParams['figure.figsize'] = [24, 16]\n",
    "\n",
    "path=\"/home/strider/Code/robotron/resources/images/sprites/\""
   ]
  },
  {
   "cell_type": "code",
   "execution_count": 2,
   "metadata": {},
   "outputs": [],
   "source": [
    "def isActive(frame):\n",
    "    #snip = frame[924:940, 880:890]\n",
    "#     snip = frame[934:940, 880:890]\n",
    "    snip = frame[460:675, 660:675]\n",
    "\n",
    "    return np.count_nonzero(snip) > 10\n",
    "\n",
    "def overlayText(image, text, location, size=3, weight=8, color=(255,255,255)):\n",
    "    font = cv2.FONT_HERSHEY_SIMPLEX\n",
    "    cv2.putText(image, text, location, font, size, color, weight)\n",
    "    return image\n",
    "\n",
    "def markIsActive(frame):\n",
    "    active = \"True\" if isActive(frame) else \"False\"\n",
    "    text = \"Is Active? \" + active\n",
    "    return overlayText(frame, text, (20, 20), 1)"
   ]
  },
  {
   "cell_type": "code",
   "execution_count": 3,
   "metadata": {},
   "outputs": [],
   "source": [
    "enemies = {}\n",
    "sprites = {}"
   ]
  },
  {
   "cell_type": "code",
   "execution_count": 4,
   "metadata": {},
   "outputs": [],
   "source": [
    "def saveBlobs(frame):\n",
    "    frame = imresize(frame, size=(720, 1280), interp='nearest')\n",
    "    cv2.rectangle(frame, (460, 643), (660, 675), (255, 255, 255), 2)\n",
    "\n",
    "    active = isActive(frame)\n",
    "    text = \"Is Active? \" + \"True\" if active else \"False\"\n",
    "\n",
    "    overlayText(frame, text, (20, 20), 1, 2)    \n",
    "    if not active:\n",
    "        return frame\n",
    "    crop = frame[115:608, 309:975]\n",
    "    gray = cv2.cvtColor(crop, cv2.COLOR_BGR2GRAY)\n",
    "    ret,thresh = cv2.threshold(gray,10,255,0)\n",
    "    blur = cv2.GaussianBlur(thresh, (3, 3), 0)\n",
    "    contours, hierarchy = cv2.findContours(blur, cv2.RETR_TREE, cv2.CHAIN_APPROX_SIMPLE)\n",
    "    \n",
    "    for contour in enumerate(contours):       \n",
    "        (x,y,w,h) = cv2.boundingRect(contour[1])\n",
    "        if h < 25 or w < 10:\n",
    "            continue\n",
    "        snip = thresh[y:y+h, x:x+w]\n",
    "        hash = str(imagehash.average_hash(Image.fromarray(snip)))\n",
    "        if hash in enemies:\n",
    "            enemies[hash] += 1\n",
    "            if enemies[hash] == 100:\n",
    "                x += 309\n",
    "                y += 115\n",
    "                cv2.rectangle(frame, (x,y), (x+w,y+h), (255, 255, 255), 2)\n",
    "                sprite = Image.fromarray(frame[y:y+h, x:x+w])\n",
    "                sprites[hash] = sprite\n",
    "                sprite.save(\"{}{}-{}.jpg\".format(path, h*w, hash))\n",
    "        else:\n",
    "            enemies[hash] = 1\n",
    "            \n",
    "    return frame"
   ]
  },
  {
   "cell_type": "code",
   "execution_count": 5,
   "metadata": {},
   "outputs": [
    {
     "name": "stderr",
     "output_type": "stream",
     "text": [
      "t:   0%|          | 5/32644 [00:00<12:52, 42.23it/s, now=None]"
     ]
    },
    {
     "name": "stdout",
     "output_type": "stream",
     "text": [
      "Moviepy - Building video blah.mp4.\n",
      "Moviepy - Writing video blah.mp4\n",
      "\n"
     ]
    },
    {
     "name": "stderr",
     "output_type": "stream",
     "text": [
      "                                                                  "
     ]
    },
    {
     "name": "stdout",
     "output_type": "stream",
     "text": [
      "Moviepy - Done !\n",
      "Moviepy - video ready blah.mp4\n"
     ]
    },
    {
     "name": "stderr",
     "output_type": "stream",
     "text": [
      "\r"
     ]
    }
   ],
   "source": [
    "clip = VideoFileClip('/home/strider/Code/robotron/resources/video/robotron-1.mp4')\n",
    "#subclip = clip.subclip(5, 10)\n",
    "tagged = clip.fl_image(saveBlobs)\n",
    "# tagged.ipython_display(width=400, audio=False)\n",
    "tagged.write_videofile(\"blah.mp4\")\n",
    "# img = clip.get_frame(101.6)\n",
    "# tagged = saveBlobs(img)\n",
    "# imshow(tagged)"
   ]
  },
  {
   "cell_type": "code",
   "execution_count": 6,
   "metadata": {
    "scrolled": false
   },
   "outputs": [],
   "source": [
    "# fig=pyplot.figure(figsize=(32, 10))\n",
    "# i = 0\n",
    "# r = 10\n",
    "# c = int(len(sprites) / 10) + 1\n",
    "# print(enemies.keys())\n",
    "# for enemy, count in enemies.items():\n",
    "#     i += 1\n",
    "#     subplot = fig.add_subplot(c, r, i)\n",
    "#     img = sprites[enemy]\n",
    "#     imshow(img)\n",
    "#     subplot.set_title(\"{}\".format(img.size))\n",
    "\n"
   ]
  },
  {
   "cell_type": "code",
   "execution_count": 7,
   "metadata": {},
   "outputs": [],
   "source": [
    "# f = open(\"enemies.txt\", \"w\")\n",
    "# for enemy, count in enemies.items():\n",
    "#     img = sprites[enemy]\n",
    "#     imshow(img)   \n",
    "#         width, height = im.shape\n",
    "#         f.write(\"{}: {}  ({}, {})\".format(enemy, count, width, height))\n",
    "#        img.save(enemy+\".jpg\")\n"
   ]
  },
  {
   "cell_type": "code",
   "execution_count": null,
   "metadata": {},
   "outputs": [],
   "source": []
  }
 ],
 "metadata": {
  "kernelspec": {
   "display_name": "Python 3",
   "language": "python",
   "name": "python3"
  },
  "language_info": {
   "codemirror_mode": {
    "name": "ipython",
    "version": 3
   },
   "file_extension": ".py",
   "mimetype": "text/x-python",
   "name": "python",
   "nbconvert_exporter": "python",
   "pygments_lexer": "ipython3",
   "version": "3.6.7"
  }
 },
 "nbformat": 4,
 "nbformat_minor": 2
}
