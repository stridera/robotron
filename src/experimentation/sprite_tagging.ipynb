{
 "cells": [
  {
   "cell_type": "code",
   "execution_count": 23,
   "metadata": {
    "scrolled": true
   },
   "outputs": [],
   "source": [
    "import cv2\n",
    "import numpy as np\n",
    "import pygame\n",
    "\n",
    "import hashlib\n",
    "import base64\n",
    "\n",
    "from matplotlib import pyplot\n",
    "import IPython.display as display\n",
    "from PIL import Image\n",
    "\n",
    "%matplotlib inline\n",
    "pyplot.rcParams['figure.figsize'] = [24, 16]"
   ]
  },
  {
   "cell_type": "code",
   "execution_count": 2,
   "metadata": {},
   "outputs": [],
   "source": [
    "from io import BytesIO\n",
    "\n",
    "def display_pil_image(image):\n",
    "    b = BytesIO()\n",
    "    image.save(b, format='png')\n",
    "    data = b.getvalue()\n",
    "\n",
    "    ip_img = display.Image(data=data, format='png', embed=True)\n",
    "\n",
    "    display.clear_output(wait=True)\n",
    "    display.display(ip_img)"
   ]
  },
  {
   "cell_type": "code",
   "execution_count": 65,
   "metadata": {},
   "outputs": [],
   "source": [
    "def cleanup(image):\n",
    "    binary_output = np.zeros_like(image)\n",
    "    binary_output[image >= 5] = 1\n",
    "    return binary_output\n",
    "\n",
    "def h6(w):\n",
    "    h = hashlib.md5(cleanup(w)).digest()\n",
    "    return base64.b64encode(h)[:6].lower().decode(\"utf-8\")"
   ]
  },
  {
   "cell_type": "code",
   "execution_count": 66,
   "metadata": {},
   "outputs": [],
   "source": [
    "def getGamebox(image):\n",
    "    (x, y, x1, y1) = GAMEBOX\n",
    "    return image[x:x1, y:y1]"
   ]
  },
  {
   "cell_type": "code",
   "execution_count": 70,
   "metadata": {},
   "outputs": [],
   "source": [
    "def overlayText(image, text, location, size=3, weight=8, color=(255,255,255)):\n",
    "    font = cv2.FONT_HERSHEY_SIMPLEX\n",
    "    cv2.putText(image, text, location, font, size, color, weight)\n",
    "    return image"
   ]
  },
  {
   "cell_type": "code",
   "execution_count": 74,
   "metadata": {},
   "outputs": [],
   "source": [
    "def process(image):\n",
    "    im2, contours, hierarchy = cv2.findContours(image, cv2.RETR_TREE, cv2.CHAIN_APPROX_SIMPLE)\n",
    "    for contour in enumerate(contours):\n",
    "        (x,y,w,h) = cv2.boundingRect(contour[1])\n",
    "        if h > 15:\n",
    "            digest = h6(image[y:y+h, x:x+w])\n",
    "            overlayText(image, digest, (x-10, y-10), 0.5, 1)\n",
    "            cv2.rectangle(image, (x,y), (x+w,y+h), (255, 255, 255), 2)\n",
    "                \n",
    "    return image"
   ]
  },
  {
   "cell_type": "code",
   "execution_count": 76,
   "metadata": {
    "scrolled": false
   },
   "outputs": [
    {
     "data": {
      "image/png": "[encoded data removed]",
      "text/plain": [
       "<IPython.core.display.Image object>"
      ]
     },
     "metadata": {},
     "output_type": "display_data"
    }
   ],
   "source": [
    "GAMEBOX = [114, 309, 608, 975]\n",
    "\n",
    "cap = cv2.VideoCapture(0)\n",
    "cap.set(3, 1280)\n",
    "cap.set(4, 720)\n",
    "\n",
    "i = 0\n",
    "while True:    \n",
    "    ret, image = cap.read()\n",
    "    gray = cv2.cvtColor(image, cv2.COLOR_BGR2GRAY)\n",
    "\n",
    "    gamebox = getGamebox(gray)\n",
    "    processed = process(gamebox)\n",
    "    rgb = Image.fromarray(processed, \"L\")\n",
    "    display_pil_image(rgb)\n",
    "    \n",
    "    i += 1\n",
    "    if i > 1:\n",
    "        break\n",
    "        \n",
    "cap.release()"
   ]
  },
  {
   "cell_type": "code",
   "execution_count": null,
   "metadata": {},
   "outputs": [],
   "source": []
  }
 ],
 "metadata": {
  "kernelspec": {
   "display_name": "Python 2",
   "language": "python",
   "name": "python2"
  },
  "language_info": {
   "codemirror_mode": {
    "name": "ipython",
    "version": 2
   },
   "file_extension": ".py",
   "mimetype": "text/x-python",
   "name": "python",
   "nbconvert_exporter": "python",
   "pygments_lexer": "ipython2",
   "version": "2.7.14"
  }
 },
 "nbformat": 4,
 "nbformat_minor": 2
}
