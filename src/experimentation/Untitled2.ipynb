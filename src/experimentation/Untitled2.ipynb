{
 "cells": [
  {
   "cell_type": "code",
   "execution_count": 5,
   "metadata": {},
   "outputs": [],
   "source": [
    "import torch\n",
    "import numpy as np"
   ]
  },
  {
   "cell_type": "code",
   "execution_count": 2,
   "metadata": {},
   "outputs": [
    {
     "name": "stdout",
     "output_type": "stream",
     "text": [
      "tensor([[-8.7733e+26,  4.5898e-41, -8.7733e+26],\n",
      "        [ 4.5898e-41,  3.0357e+32,  1.3563e-19],\n",
      "        [ 1.1290e+27,  1.8037e+28,  2.6454e+20],\n",
      "        [ 2.8492e+20,  5.0850e+31,  1.9421e+31],\n",
      "        [ 3.6002e+27,  8.8674e-04,  6.2717e+22]])\n"
     ]
    }
   ],
   "source": [
    "x = torch.empty(5, 3)\n",
    "print(x)"
   ]
  },
  {
   "cell_type": "code",
   "execution_count": 3,
   "metadata": {},
   "outputs": [
    {
     "name": "stdout",
     "output_type": "stream",
     "text": [
      "tensor([[9.8112e-01, 4.4441e-04, 5.3469e-01],\n",
      "        [9.2280e-01, 6.0478e-01, 6.1081e-01],\n",
      "        [3.1324e-01, 7.9022e-01, 8.9850e-01],\n",
      "        [7.1507e-01, 5.1484e-01, 3.5150e-01],\n",
      "        [1.2476e-02, 2.2355e-01, 4.3972e-01]])\n"
     ]
    }
   ],
   "source": [
    "x = torch.rand(5, 3)\n",
    "print(x)"
   ]
  },
  {
   "cell_type": "code",
   "execution_count": 4,
   "metadata": {},
   "outputs": [
    {
     "name": "stdout",
     "output_type": "stream",
     "text": [
      "torch.Size([5, 3])\n"
     ]
    }
   ],
   "source": [
    "print(x.size())"
   ]
  },
  {
   "cell_type": "code",
   "execution_count": 6,
   "metadata": {},
   "outputs": [
    {
     "name": "stdout",
     "output_type": "stream",
     "text": [
      "[2. 2. 2. 2. 2.]\n",
      "tensor([2., 2., 2., 2., 2.], dtype=torch.float64)\n"
     ]
    }
   ],
   "source": [
    "a = np.ones(5)\n",
    "b = torch.from_numpy(a)\n",
    "np.add(a, 1, out=a)\n",
    "print(a)\n",
    "print(b)"
   ]
  },
  {
   "cell_type": "code",
   "execution_count": 7,
   "metadata": {},
   "outputs": [
    {
     "name": "stdout",
     "output_type": "stream",
     "text": [
      "tensor([[1.9811, 1.0004, 1.5347],\n",
      "        [1.9228, 1.6048, 1.6108],\n",
      "        [1.3132, 1.7902, 1.8985],\n",
      "        [1.7151, 1.5148, 1.3515],\n",
      "        [1.0125, 1.2236, 1.4397]], device='cuda:0')\n",
      "tensor([[1.9811, 1.0004, 1.5347],\n",
      "        [1.9228, 1.6048, 1.6108],\n",
      "        [1.3132, 1.7902, 1.8985],\n",
      "        [1.7151, 1.5148, 1.3515],\n",
      "        [1.0125, 1.2236, 1.4397]], dtype=torch.float64)\n"
     ]
    }
   ],
   "source": [
    "if torch.cuda.is_available():\n",
    "    device = torch.device(\"cuda\")          # a CUDA device object\n",
    "    y = torch.ones_like(x, device=device)  # directly create a tensor on GPU\n",
    "    x = x.to(device)                       # or just use strings ``.to(\"cuda\")``\n",
    "    z = x + y\n",
    "    print(z)\n",
    "    print(z.to(\"cpu\", torch.double))       # ``.to`` can also change dtype together!"
   ]
  },
  {
   "cell_type": "code",
   "execution_count": null,
   "metadata": {},
   "outputs": [],
   "source": []
  }
 ],
 "metadata": {
  "kernelspec": {
   "display_name": "Python 3",
   "language": "python",
   "name": "python3"
  },
  "language_info": {
   "codemirror_mode": {
    "name": "ipython",
    "version": 3
   },
   "file_extension": ".py",
   "mimetype": "text/x-python",
   "name": "python",
   "nbconvert_exporter": "python",
   "pygments_lexer": "ipython3",
   "version": "3.7.5"
  }
 },
 "nbformat": 4,
 "nbformat_minor": 2
}
