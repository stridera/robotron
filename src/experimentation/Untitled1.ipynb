{
 "cells": [
  {
   "cell_type": "code",
   "execution_count": 9,
   "metadata": {},
   "outputs": [],
   "source": [
    "import math\n",
    "import numpy as np\n",
    "import matplotlib.pyplot as plt"
   ]
  },
  {
   "cell_type": "code",
   "execution_count": 32,
   "metadata": {},
   "outputs": [],
   "source": [
    "def getDirection(x1, y1, x2, y2):\n",
    "    deltaX = x2 - x1\n",
    "    deltaY = y2 - y1\n",
    "\n",
    "    degrees_temp = (math.atan2(deltaY, deltaX)/math.pi*180)\n",
    "    if degrees_temp < 0:\n",
    "        degrees_final = 360 + degrees_temp\n",
    "    else:\n",
    "        degrees_final = degrees_temp\n",
    "\n",
    "    point = round(degrees_final / 45)\n",
    "\n",
    "#     print((x1, y1), (x2, y2), degrees_temp, degrees_final, point)\n",
    "\n",
    "    if point > 8:\n",
    "        point -= 8\n",
    "\n",
    "    return point, degrees_final"
   ]
  },
  {
   "cell_type": "code",
   "execution_count": 34,
   "metadata": {
    "scrolled": false
   },
   "outputs": [
    {
     "data": {
      "image/png": "[encoded data removed]",
      "text/plain": [
       "<Figure size 864x864 with 1 Axes>"
      ]
     },
     "metadata": {
      "needs_background": "light"
     },
     "output_type": "display_data"
    }
   ],
   "source": [
    "points = [\n",
    "    ( 5,  0),\n",
    "    ( 7,  0),\n",
    "    (10,  0),\n",
    "    (10,  5),\n",
    "    (10, 10),\n",
    "    ( 5, 10),\n",
    "    ( 0, 10),\n",
    "    ( 0,  5),\n",
    "    ( 0,  0),\n",
    "    ( 3,  0),\n",
    "    ( 8,  0),\n",
    "    ( 5,  5),\n",
    "]\n",
    "\n",
    "fig=pyplot.figure(figsize=(12, 12))\n",
    "\n",
    "ax = fig.subplots()\n",
    "\n",
    "xs = []\n",
    "ys = []\n",
    "for px, py in points:\n",
    "    xs.append(px)\n",
    "    ys.append(py)\n",
    "\n",
    "ax.scatter(xs, ys)\n",
    "    \n",
    "for i, p in enumerate(points):\n",
    "    pt, deg = getDirection(5, 5, *p)\n",
    "    txt = \"   {} ({:.2f})\".format(pt, deg)\n",
    "    ax.annotate(txt, p)"
   ]
  },
  {
   "cell_type": "code",
   "execution_count": 15,
   "metadata": {},
   "outputs": [
    {
     "name": "stdout",
     "output_type": "stream",
     "text": [
      "15\n",
      "False\n"
     ]
    }
   ],
   "source": [
    "EPSILON = 0.0\n",
    "def isBetween(a, b, c):\n",
    "    (ax, ay), (bx, by), (cx, cy) = a, b, c\n",
    "    crossproduct = (cy - ay) * (bx - ax) - (cx - ax) * (by - ay)\n",
    "\n",
    "    print(crossproduct)\n",
    "    # compare versus epsilon for floating point values, or != 0 if using integers\n",
    "    if abs(crossproduct) > EPSILON:\n",
    "        return False\n",
    "\n",
    "    dotproduct = (cx - ax) * (bx - ax) + (cy - ay)*(by - ay)\n",
    "    if dotproduct < 0:\n",
    "        return False\n",
    "\n",
    "    squaredlengthba = (bx - ax)*(bx - ax) + (by - ay)*(by - ay)\n",
    "    if dotproduct > squaredlengthba:\n",
    "        return False\n",
    "\n",
    "    return True\n",
    "\n",
    "print(isBetween((5, 5), (0, 0), (5, 2)))"
   ]
  },
  {
   "cell_type": "code",
   "execution_count": null,
   "metadata": {},
   "outputs": [],
   "source": []
  }
 ],
 "metadata": {
  "kernelspec": {
   "display_name": "Python 3",
   "language": "python",
   "name": "python3"
  },
  "language_info": {
   "codemirror_mode": {
    "name": "ipython",
    "version": 3
   },
   "file_extension": ".py",
   "mimetype": "text/x-python",
   "name": "python",
   "nbconvert_exporter": "python",
   "pygments_lexer": "ipython3",
   "version": "3.7.3"
  }
 },
 "nbformat": 4,
 "nbformat_minor": 2
}
