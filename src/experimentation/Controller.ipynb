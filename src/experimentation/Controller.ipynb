{
 "cells": [
  {
   "cell_type": "code",
   "execution_count": 1,
   "metadata": {},
   "outputs": [],
   "source": [
    "import serial\n",
    "import time\n",
    "import pygame\n",
    "import sys"
   ]
  },
  {
   "cell_type": "code",
   "execution_count": 2,
   "metadata": {},
   "outputs": [
    {
     "name": "stdout",
     "output_type": "stream",
     "text": [
      "Using joystick:  Harmonix Xbox 360 Controller\n"
     ]
    }
   ],
   "source": [
    "pygame.init()\n",
    "pygame.joystick.init()\n",
    "\n",
    "joystick = pygame.joystick.Joystick(0)  \n",
    "joystick.init()\n",
    "\n",
    "print(\"Using joystick: \", joystick.get_name())"
   ]
  },
  {
   "cell_type": "code",
   "execution_count": 3,
   "metadata": {},
   "outputs": [],
   "source": [
    "def clear():\n",
    "    s = '\\r' + ' '*1000\n",
    "    sys.stdout.write(s)\n",
    "    sys.stdout.flush()"
   ]
  },
  {
   "cell_type": "code",
   "execution_count": 4,
   "metadata": {},
   "outputs": [],
   "source": [
    "upDownAxis = 1\n",
    "leftRightAxis = 0\n",
    "aButton = 0\n",
    "bButton = 1\n",
    "xButton = 2\n",
    "yButton = 3\n",
    "backButton = 6\n",
    "startButton = 7\n",
    "xboxButton = 8\n",
    "\n",
    "cycle = 0"
   ]
  },
  {
   "cell_type": "code",
   "execution_count": 5,
   "metadata": {},
   "outputs": [],
   "source": [
    "from bitstring import BitArray\n",
    "def writeThenRead(val):\n",
    "    global cycle\n",
    "    s = \"\\r\"\n",
    "    cycle += 1\n",
    "    if cycle % 4 == 0:\n",
    "        s += '| '\n",
    "    if cycle % 4 == 1:\n",
    "        s += '/ '\n",
    "    if cycle % 4 == 2:\n",
    "        s += '- '\n",
    "    if cycle % 4 == 3:\n",
    "        s += '\\ '\n",
    "    bitarr = BitArray(uint=val, length=8).bin\n",
    "    s += \"wrote: {} read: \".format(bitarr)\n",
    "    ser.write(val.to_bytes(1, byteorder='big'))\n",
    "    ser.flush()\n",
    "    while ser.inWaiting():\n",
    "        inb = ser.readline()\n",
    "        line = inb.decode('utf-8').rstrip()\n",
    "        s += line + \" \" \n",
    "    \n",
    "    clear()\n",
    "    sys.stdout.write(s)\n",
    "    sys.stdout.flush()"
   ]
  },
  {
   "cell_type": "code",
   "execution_count": 10,
   "metadata": {},
   "outputs": [
    {
     "name": "stdout",
     "output_type": "stream",
     "text": [
      "/ wrote: 00000000 read: buttons: All off                                                                                                                                                                                                                                                                                                                                                                                                                                                                                                                                                                                                                                                                                                                                                                                                                                                                                                                                                                                                "
     ]
    },
    {
     "ename": "KeyboardInterrupt",
     "evalue": "",
     "output_type": "error",
     "traceback": [
      "\u001b[0;31m---------------------------------------------------------------------------\u001b[0m",
      "\u001b[0;31mKeyboardInterrupt\u001b[0m                         Traceback (most recent call last)",
      "\u001b[0;32m<ipython-input-10-51bad4fa9757>\u001b[0m in \u001b[0;36m<module>\u001b[0;34m()\u001b[0m\n\u001b[1;32m     68\u001b[0m     \u001b[0ms\u001b[0m \u001b[0;34m+=\u001b[0m \u001b[0mbin\u001b[0m\u001b[0;34m(\u001b[0m\u001b[0mbyte\u001b[0m\u001b[0;34m)\u001b[0m\u001b[0;34m\u001b[0m\u001b[0m\n\u001b[1;32m     69\u001b[0m     \u001b[0mwriteThenRead\u001b[0m\u001b[0;34m(\u001b[0m\u001b[0mbyte\u001b[0m\u001b[0;34m)\u001b[0m\u001b[0;34m\u001b[0m\u001b[0m\n\u001b[0;32m---> 70\u001b[0;31m     \u001b[0mtime\u001b[0m\u001b[0;34m.\u001b[0m\u001b[0msleep\u001b[0m\u001b[0;34m(\u001b[0m\u001b[0;36m0.1\u001b[0m\u001b[0;34m)\u001b[0m\u001b[0;34m\u001b[0m\u001b[0m\n\u001b[0m\u001b[1;32m     71\u001b[0m \u001b[0;34m\u001b[0m\u001b[0m\n\u001b[1;32m     72\u001b[0m \u001b[0;32mif\u001b[0m \u001b[0mser\u001b[0m \u001b[0;32mis\u001b[0m \u001b[0;32mnot\u001b[0m \u001b[0;32mNone\u001b[0m\u001b[0;34m:\u001b[0m\u001b[0;34m\u001b[0m\u001b[0m\n",
      "\u001b[0;31mKeyboardInterrupt\u001b[0m: "
     ]
    }
   ],
   "source": [
    "ser = serial.Serial('/dev/ttyACM0')\n",
    "\n",
    "running = True\n",
    "while running:\n",
    "    pygame.event.pump()\n",
    "    if not joystick.get_button(xboxButton):\n",
    "        running = False\n",
    "        \n",
    "running = True\n",
    "s = \"Starting...\"\n",
    "while running:\n",
    "#     sys.stdout.write(\"\\r                                                          \")\n",
    "#     sys.stdout.write(\"\\r{}\".format(s))\n",
    "#     sys.stdout.flush()    \n",
    "    s = \"\"\n",
    "\n",
    "    pygame.event.pump()\n",
    "\n",
    "    # Special\n",
    "    if joystick.get_button(xboxButton):\n",
    "        print(\"Quitting...\\n\")\n",
    "        running = False\n",
    "        continue\n",
    "        \n",
    "    s = \"Pressed: \";\n",
    "    if joystick.get_button(startButton):\n",
    "        writeThenRead(int('11000000', 2))\n",
    "        s += \"Start \"\n",
    "        time.sleep(0.1)\n",
    "        continue\n",
    "    if joystick.get_button(backButton):\n",
    "        writeThenRead(int('00110000', 2))\n",
    "        s += \"Back \"\n",
    "        time.sleep(0.1)\n",
    "        continue\n",
    "    \n",
    "    byte = 0\n",
    "    # Up/Down, Left/Right\n",
    "    axis0 = joystick.get_axis( upDownAxis )\n",
    "    if axis0 > 0:\n",
    "        byte = byte | (1 << 7)\n",
    "        s += \"Down \"\n",
    "    if axis0 < 0:\n",
    "        byte = byte | (1 << 6)\n",
    "        s += \"Up \"\n",
    "    axis1 = joystick.get_axis( leftRightAxis )\n",
    "    if axis1 > 0:\n",
    "        byte = byte | (1 << 5)\n",
    "        s += \"Right \"\n",
    "    if axis1 < 0:\n",
    "        byte = byte | (1 << 4)\n",
    "        s += \"Left \"\n",
    "            \n",
    "    # Buttons\n",
    "    if joystick.get_button(aButton):\n",
    "        byte = byte | (1 << 3)\n",
    "        s += \"A \"\n",
    "    if joystick.get_button(bButton):\n",
    "        byte = byte | (1 << 2)\n",
    "        s += \"B \"\n",
    "    if joystick.get_button(xButton):\n",
    "        byte = byte | (1 << 1)\n",
    "        s += \"X \"\n",
    "    if joystick.get_button(yButton):\n",
    "        byte = byte | 1\n",
    "        s += \"Y \"\n",
    "    \n",
    "    s += bin(byte)\n",
    "    writeThenRead(byte)\n",
    "    time.sleep(0.1)\n",
    "\n",
    "if ser is not None:\n",
    "    ser.close()"
   ]
  },
  {
   "cell_type": "code",
   "execution_count": null,
   "metadata": {},
   "outputs": [],
   "source": []
  },
  {
   "cell_type": "code",
   "execution_count": null,
   "metadata": {},
   "outputs": [],
   "source": [
    "tmp = 0\n",
    "for i in range(8):\n",
    "    tmp = 0 | (1 << i)\n",
    "    print(bin(tmp), BitArray(uint=tmp, length=8).bin)"
   ]
  },
  {
   "cell_type": "code",
   "execution_count": null,
   "metadata": {},
   "outputs": [],
   "source": []
  }
 ],
 "metadata": {
  "kernelspec": {
   "display_name": "Python 2",
   "language": "python",
   "name": "python2"
  },
  "language_info": {
   "codemirror_mode": {
    "name": "ipython",
    "version": 2
   },
   "file_extension": ".py",
   "mimetype": "text/x-python",
   "name": "python",
   "nbconvert_exporter": "python",
   "pygments_lexer": "ipython2",
   "version": "2.7.14"
  }
 },
 "nbformat": 4,
 "nbformat_minor": 2
}
