{
 "cells": [
  {
   "cell_type": "code",
   "execution_count": 1,
   "metadata": {},
   "outputs": [],
   "source": [
    "import cv2\n",
    "import numpy as np\n",
    "from moviepy.editor import VideoFileClip\n",
    "import os.path\n",
    "from matplotlib import pyplot\n",
    "%matplotlib inline\n",
    "pyplot.rcParams['figure.figsize'] = [24, 16]\n",
    "vid = '/home/stridera/code/robotron/resources/video/robotron.mp4';\n"
   ]
  },
  {
   "cell_type": "code",
   "execution_count": 2,
   "metadata": {},
   "outputs": [],
   "source": [
    "def numberCleanup(image):\n",
    "    binary_output = np.zeros_like(image)\n",
    "    binary_output[image >= 30] = 1\n",
    "    return binary_output"
   ]
  },
  {
   "cell_type": "code",
   "execution_count": 3,
   "metadata": {},
   "outputs": [],
   "source": [
    "import hashlib\n",
    "\n",
    "def h11(w):\n",
    "    return hashlib.md5(w).hexdigest()[:9].lower()\n",
    "\n",
    "def h6(w):\n",
    "    h = hashlib.md5(w)\n",
    "    return h.digest().encode('base64')[:6].lower()\n",
    "\n",
    "hashmap = {}\n",
    "def getDigitFromImageBinary(score_bin):\n",
    "    digest = h6(score_bin)\n",
    "    if digest in NUMBERS_HASH:\n",
    "        return NUMBERS_HASH[digest]\n",
    "    \n",
    "    digit = -1\n",
    "    flat = score_bin.flatten()\n",
    "    results = np.apply_along_axis(lambda row: np.sum(row == flat), 1, NUMBERS)\n",
    "    before = np.copy(results)\n",
    "    results[results < 140] = 0 # Max 168\n",
    "    \n",
    "    if np.count_nonzero(results) > 0:\n",
    "        digit = np.argmax(results)    \n",
    "        while digit > 9:\n",
    "            digit -= 10\n",
    "\n",
    "    if digest not in hashmap:\n",
    "        print(score_bin)\n",
    "        print(digit, 'digest', digest, 'argmax', np.argmax(results))       \n",
    "        print(\"\")\n",
    "        hashmap[digest] = 1\n",
    "        \n",
    "    return digit\n"
   ]
  },
  {
   "cell_type": "code",
   "execution_count": 4,
   "metadata": {},
   "outputs": [],
   "source": [
    "def getScore(gray):\n",
    "    score = 0\n",
    "    tl = np.copy(SCOREBOX)\n",
    "    br = tl + SCORE_SIZE\n",
    "    score_img = gray[tl[1]:br[1], tl[0]:br[0]]\n",
    "    score_bin = numberCleanup(score_img)\n",
    "\n",
    "    place = 0\n",
    "    while (np.count_nonzero(score_bin)):\n",
    "        digit = getDigitFromImageBinary(score_bin)\n",
    "        if digit == -1:\n",
    "            return -1\n",
    "\n",
    "        score += digit * (10 ** place)\n",
    "\n",
    "        tl[0] = tl[0] - SCORE_SIZE[0] - SCORE_BUFFER\n",
    "        br[0] = tl[0] + SCORE_SIZE[0]\n",
    "        score_img = gray[tl[1]:br[1], tl[0]:br[0]]\n",
    "        score_bin = numberCleanup(score_img)\n",
    "        place += 1;\n",
    "\n",
    "    return score"
   ]
  },
  {
   "cell_type": "code",
   "execution_count": 5,
   "metadata": {},
   "outputs": [],
   "source": [
    "def overlayText(image, text, location, size=3, weight=8, color=(255,255,255)):\n",
    "    font = cv2.FONT_HERSHEY_SIMPLEX\n",
    "    cv2.putText(image, text, location, font, size, color, weight)\n",
    "    return image"
   ]
  },
  {
   "cell_type": "code",
   "execution_count": 6,
   "metadata": {},
   "outputs": [],
   "source": [
    "def addSquares(image, locx, locy, color=(0,255,255)):\n",
    "    cv2.rectangle(image, (locx[0], locx[1]), (locy[0], locy[1]), color, 2)"
   ]
  },
  {
   "cell_type": "code",
   "execution_count": 7,
   "metadata": {},
   "outputs": [],
   "source": [
    "def writeScoreToImage(image):\n",
    "    score = getScore(image)\n",
    "    gray = cv2.cvtColor(image, cv2.COLOR_RGB2GRAY)\n",
    "    return overlayText(image, \"Score: {}\".format(score), (25,50), 1, 4)"
   ]
  },
  {
   "cell_type": "code",
   "execution_count": 8,
   "metadata": {},
   "outputs": [],
   "source": [
    "NUMBERS = [\n",
    "    [1,1,1,1,1,1,1,1,1,1,1,1,1,1,1,1,1,1,1,1,1,1,1,1,1,1,1,0,0,0,0,0,0,0,1,1,1,1,1,0,0,0,0,0,0,0,1,1,1,1,1,0,0,0,0,0,0,0,1,1,1,1,1,0,0,0,0,0,0,0,1,1,1,1,1,0,0,0,0,0,0,0,1,1,1,1,1,0,0,0,0,0,0,0,1,1,1,1,1,0,0,0,0,0,0,0,1,1,1,1,1,0,0,0,0,0,0,0,1,1,1,1,1,0,0,0,0,0,0,0,1,1,1,1,1,0,0,0,0,0,0,0,1,1,1,1,1,1,1,1,1,1,1,1,1,1,0,1,1,1,1,1,1,1,1,1,1,1],\n",
    "    [0,0,0,0,1,1,1,1,0,0,0,0,0,0,0,0,1,1,1,1,0,0,0,0,0,0,0,0,0,0,1,1,0,0,0,0,0,0,0,0,0,0,1,1,0,0,0,0,0,0,0,0,0,0,1,1,0,0,0,0,0,0,0,0,0,0,1,1,0,0,0,0,0,0,0,0,0,0,1,1,0,0,0,0,0,0,0,0,0,0,1,1,0,0,0,0,0,0,0,0,0,0,1,1,0,0,0,0,0,0,0,0,0,0,1,1,0,0,0,0,0,0,0,0,0,0,1,1,0,0,0,0,0,0,0,0,0,0,1,1,0,0,0,0,0,1,1,1,1,1,1,1,1,1,1,0,0,1,1,1,1,1,1,1,1,1,1,0],\n",
    "    [0,0,1,1,1,1,1,1,1,1,1,1,0,0,1,1,1,1,1,1,1,1,1,1,0,0,0,0,0,0,0,0,0,1,1,1,0,0,0,0,0,0,0,0,0,1,1,1,1,1,1,1,1,1,1,1,1,1,1,1,1,1,1,1,1,1,1,1,1,1,1,1,1,1,1,1,1,1,1,1,1,1,1,1,1,1,0,0,0,0,0,0,0,0,0,0,1,1,0,0,0,0,0,0,0,0,0,0,1,1,0,0,0,0,0,0,0,0,0,0,1,1,0,0,0,0,0,0,0,0,0,0,1,1,0,0,0,0,0,0,0,0,0,0,1,1,1,1,1,1,1,1,1,0,0,0,1,1,1,1,1,1,1,1,1,0,0,0],\n",
    "    [0,1,1,1,1,1,1,1,1,1,1,1,0,1,1,1,1,1,1,1,1,1,1,1,0,0,1,1,1,1,1,1,1,1,1,1,0,0,0,0,0,0,0,0,0,1,1,1,0,0,1,1,1,1,1,1,1,1,1,1,0,1,1,1,1,1,1,1,1,1,1,1,0,1,1,1,1,1,1,1,1,1,1,1,0,0,0,0,0,0,0,0,0,1,1,1,0,0,0,0,0,0,0,0,0,1,1,1,0,0,0,0,0,0,0,0,0,1,1,1,0,0,0,0,0,0,0,0,0,1,1,1,1,1,1,1,1,1,1,1,1,1,1,1,1,1,1,1,1,1,1,1,1,1,1,1,1,1,1,1,1,1,1,1,1,1,1,1],\n",
    "    [1,1,0,0,0,0,0,0,0,0,0,0,1,1,0,0,0,0,0,0,0,0,0,0,1,1,0,0,0,0,0,1,1,0,0,0,1,1,0,0,0,0,1,1,1,0,0,0,1,1,0,0,0,0,1,1,1,0,0,0,1,1,0,0,0,0,1,1,1,0,0,0,1,1,0,0,0,0,1,1,1,0,0,0,1,1,1,1,1,1,1,1,1,1,1,1,1,1,1,1,1,1,1,1,1,1,1,1,0,0,0,0,0,0,1,1,1,0,0,0,0,0,0,0,0,0,1,1,1,0,0,0,0,0,0,0,0,0,1,1,1,0,0,0,0,0,0,0,0,0,1,1,1,0,0,0,0,0,0,0,0,0,0,1,1,0,0,0],\n",
    "    [1,1,1,1,1,1,1,1,1,1,0,0,1,1,1,1,1,1,1,1,1,1,0,0,1,1,0,0,0,0,0,0,0,0,0,0,1,1,0,0,0,0,0,0,0,0,0,0,1,1,1,1,1,1,1,1,1,1,1,1,1,1,1,1,1,1,1,1,1,1,1,1,1,1,1,1,1,1,1,1,1,1,1,1,0,0,0,0,0,0,0,0,0,0,1,1,0,0,0,0,0,0,0,0,0,0,1,1,0,0,0,0,0,0,0,0,0,0,1,1,0,0,0,0,0,0,0,0,0,0,1,1,0,0,0,0,0,0,0,0,0,0,1,1,1,1,1,1,1,1,1,1,1,1,1,1,1,1,1,1,1,1,1,1,1,1,1,1],\n",
    "    [0,0,0,0,0,0,0,0,0,0,0,0,0,0,0,0,0,0,0,0,0,0,0,0,0,0,0,0,0,0,0,0,0,0,0,0,0,0,0,0,0,0,0,0,0,0,0,0,0,0,0,0,0,0,0,0,0,0,0,0,0,0,0,0,0,0,0,0,0,0,0,0,0,0,0,0,0,0,0,0,0,0,0,0,0,0,0,0,0,0,0,0,0,0,0,0,0,0,0,0,0,0,0,0,0,0,0,0,0,0,0,0,0,0,0,0,0,0,0,0,0,0,0,0,0,0,0,0,0,0,0,0,0,0,0,0,0,0,0,0,0,0,0,0,0,0,0,0,0,0,0,0,0,0,0,0,0,0,0,0,0,0,0,0,0,0,0,0],\n",
    "    [1,1,1,1,1,1,1,1,1,1,1,1,1,1,1,1,1,1,1,1,1,1,1,1,1,1,1,1,1,1,1,1,1,1,1,1,0,0,0,0,0,0,0,0,0,1,1,1,0,0,0,0,0,0,1,1,1,1,1,0,0,0,0,0,0,0,1,1,1,0,0,0,0,0,0,0,0,0,1,1,1,0,0,0,0,0,0,0,1,1,1,0,0,0,0,0,0,0,0,0,1,1,1,0,0,0,0,0,0,1,1,1,1,0,0,0,0,0,0,0,0,1,1,1,1,0,0,0,0,0,0,0,1,1,1,1,0,0,0,0,0,0,0,0,1,1,0,0,0,0,0,0,0,0,0,0,1,1,0,0,0,0,0,0,0,0,0,0],\n",
    "    [1,1,1,1,1,1,1,1,1,1,1,1,1,1,1,1,1,1,1,1,1,1,1,1,1,1,0,0,0,0,0,0,0,1,1,1,1,1,0,0,0,0,0,0,0,1,1,1,1,1,1,1,1,1,1,1,1,1,1,1,1,1,1,1,1,1,1,1,1,1,1,1,1,1,1,1,1,1,1,1,1,1,1,1,1,1,0,0,0,0,0,0,0,1,1,1,1,1,0,0,0,0,0,0,0,1,1,1,1,1,0,0,0,0,0,0,0,1,1,1,1,1,0,0,0,0,0,0,0,1,1,1,1,1,0,0,0,0,0,0,0,1,1,1,1,1,1,1,1,1,1,1,1,1,1,1,1,1,1,1,1,1,1,1,1,1,1,1],\n",
    "    [1,1,1,1,1,1,1,1,1,1,1,1,1,1,1,1,1,1,1,1,1,1,1,1,1,1,1,1,1,1,1,0,0,0,0,0,0,0,0,1,1,1,1,1,1,0,0,0,0,0,0,0,0,1,1,1,1,1,1,0,0,0,0,0,0,0,0,1,1,1,1,1,1,1,1,1,1,1,1,1,1,1,1,1,1,1,1,1,1,1,1,1,1,1,1,1,1,1,1,1,1,1,1,1,1,1,1,1,1,1,1,1,0,0,0,0,0,0,0,0,0,0,0,1,1,1,0,0,0,0,0,0,0,0,0,0,0,1,1,1,0,0,0,0,0,0,0,0,0,0,0,1,1,1,0,0,0,0,0,0,0,0,0,0,0,1,1,1],\n",
    "]"
   ]
  },
  {
   "cell_type": "code",
   "execution_count": 17,
   "metadata": {},
   "outputs": [],
   "source": [
    "numbers_hash = {\n",
    "\t'wyj8ay':0,'warr4l':0,'bbbnw5':0,'trkkxr':0,'1jiwqc':0,'ceh3iu':0,'r4swfw':0,'3dbr5o':0,'dqos4u':0,'kx9cgf':0,'g5c/iv':0,\n",
    "\t'tldks7':1,'szcrhd':1,'wf5wgw':1,'9etfwr':1,'ykoeur':1,'zfctly':1,'xhsqw2':1,'tnoezf':1,'cewbyp':1,'n/z8cd':1,'d+qvoc':1,'+ugtdk':1,\n",
    "\t'rht93c':2,'042urk':2,'grbo36':2,'c90lxp':2,'5j34un':2,'ohcpnt':2,'ujhlc7':2,'qulngk':2,'vrvp7j':2,'eerjiq':2,'fydmir':2,'wi8rxd':2,'cdyngv':2,'f751x+':2,'/w4kld':2,\n",
    "\t'vwujcu':3,'oqca4r':3,'jefo8a':3,'7jjfwq':3,'vbpjip':3,'+etzhn':3,'c/+zoa':3,'j4a5z5':3,'e4badr':3,'u2f8cd':3,\n",
    "\t'yskjgx':4,'vmjz8y':4,'pvased':4,'lpssgx':4,'ijtxus':4,'vmjz8y':4,'pvased':4,'lpssgx':4,'bgcvif':4,'2zmxyl':4,'kndv5o':4,'8dbv8b':4,'hsgm9s':4,\n",
    "\t'ssop8b':5,'nbr42g':5,'b2ngl9':5,'t6x5lz':5,'1jveha':5,'zt2j2m':5,'xrloea':5,'bosspd':5,'u7sc9o':5,'ocvril':5,'s//eqz':5,'4vz+wc':5,'+jpqpv':5,'hvctsc':5,'sl4ogs':5,'i6zcip':5,'44a0cs':5,'fqrmvx':5,'dxbmqj':5,\n",
    "\t'bynaqu':6,'aj2mo7':6,'obnnen':6,'xftabr':6,'fldafz':6,\n",
    "\t'jst1wf':7,'vhfsgy':7,'49f4x9':7,'fg06b2':7,'5ms0tb':7,'tsfu0q':7,'ttmg5e':7,'8weloy':7,'3hen02':7,'ryupe5':7,'ot26gj':7,'rignx4':7,'x/pesb':7,\n",
    "\t'sqyncb':8,'bvirlr':8,'g559ta':8,'hpn6iu':8,'ednnrk':8,\n",
    "\t'tosdv5':9,'ronwec':9,'sldlii':9,'clibho':9,'dj6rbu':9,'jhnpc2':9,\n",
    "\n",
    "    # catch non-numbers... perhaps we can use these to know when we're transitioning\n",
    "\t'zhxyap':-1,'90dd+e':-1,'/ao8j8':-1,'ywgemb':-1,'mpejnl':-1,'gccexm':-1,'jly+ic':-1,'8dribl':-1,'fxazsm':-1,'+ieq3f':-1,'scd6pq':-1,'kme+xy':-1,'vdp0zy':-1,'at2zis':-1,'fl0/fk':-1,'rzcihe':-1,'nyfcla':-1,'r/r6fa':-1,'swemgn':-1,'elv4lf':-1,'sx8zxm':-1,'jjahka':-1,'ynpx+1':-1,'+3zmlu':-1,'/jaxop':-1,'wkyk9e':-1,'jsyya6':-1,'vekwkn':-1,'gg62jt':-1,'/71uxu':-1,'ydtn2e':-1,'osmjkf':-1,'0kyeh6':-1,'jndem2':-1,'1+zyj2':-1,'s3down':-1,'ms5h7e':-1,'404njd':-1,'r1vdh+':-1,'vi+jsn':-1,'/j4kco':-1,'hq/v6g':-1,'llpnnx':-1,'xbkfod':-1\n",
    "}"
   ]
  },
  {
   "cell_type": "code",
   "execution_count": 18,
   "metadata": {
    "scrolled": false
   },
   "outputs": [],
   "source": [
    "SCOREBOX = np.array([479, 91])\n",
    "SCORE_SIZE = np.array([12, 14])\n",
    "SCORE_BUFFER = 2\n",
    "\n",
    "cap = cv2.VideoCapture(0)\n",
    "cap.set(3,1280)\n",
    "cap.set(4,720)\n",
    "while(True):\n",
    "    # Capture frame-by-frame\n",
    "    ret, image = cap.read()\n",
    "    # Our operations on the frame come here\n",
    "    gray = cv2.cvtColor(image, cv2.COLOR_BGR2GRAY)\n",
    "    score = getScore(gray)\n",
    "    overlayText(image, \"Score: {}\".format(score), (25,50), 1, 4)\n",
    "    \n",
    "    # Display the resulting frame \n",
    "    cv2.imshow('frame', image)\n",
    "    if cv2.waitKey(1) & 0xFF == ord('q'): # wait for 1 millisecond\n",
    "        break\n",
    "\n",
    "# When everything done, release the capture\n",
    "cap.release()\n",
    "cv2.destroyAllWindows()\n",
    "# print(hashmap)"
   ]
  },
  {
   "cell_type": "code",
   "execution_count": null,
   "metadata": {},
   "outputs": [],
   "source": []
  },
  {
   "cell_type": "code",
   "execution_count": null,
   "metadata": {},
   "outputs": [],
   "source": []
  },
  {
   "cell_type": "code",
   "execution_count": null,
   "metadata": {},
   "outputs": [],
   "source": []
  }
 ],
 "metadata": {
  "kernelspec": {
   "display_name": "Python 2",
   "language": "python",
   "name": "python2"
  },
  "language_info": {
   "codemirror_mode": {
    "name": "ipython",
    "version": 2
   },
   "file_extension": ".py",
   "mimetype": "text/x-python",
   "name": "python",
   "nbconvert_exporter": "python",
   "pygments_lexer": "ipython2",
   "version": "2.7.14"
  }
 },
 "nbformat": 4,
 "nbformat_minor": 2
}
